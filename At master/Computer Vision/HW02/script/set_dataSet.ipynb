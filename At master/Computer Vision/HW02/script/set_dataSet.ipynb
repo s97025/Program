{
 "cells": [
  {
   "cell_type": "markdown",
   "id": "cb090321",
   "metadata": {},
   "source": [
    "## .data 轉換成 CSV 格式的檔案"
   ]
  },
  {
   "cell_type": "code",
   "execution_count": 4,
   "id": "5d0fec73",
   "metadata": {},
   "outputs": [
    {
     "name": "stdout",
     "output_type": "stream",
     "text": [
      "已成功轉換為 CSV 檔案：letter-recognition.csv\n"
     ]
    }
   ],
   "source": [
    "import pandas as pd\n",
    "\n",
    "# 定義欄位名稱（來自官方 UCI 說明）\n",
    "columns = [\n",
    "    'lettr', 'x-box', 'y-box', 'width', 'high', 'onpix', 'x-bar', 'y-bar',\n",
    "    'x2bar', 'y2bar', 'xybar', 'x2ybr', 'xy2br', 'x-ege', 'xegvy', 'y-ege', 'yegvx'\n",
    "]\n",
    "\n",
    "# 讀取資料（使用逗號作為分隔符）\n",
    "df = pd.read_csv(\"dataSets/raw_data/letter-recognition.data\", header=None, names=columns)\n",
    "\n",
    "# 儲存為 CSV\n",
    "df.to_csv(\"dataSets/raw_data/letter-recognition.csv\", index=False)\n",
    "\n",
    "\n",
    "\n",
    "print(\"已成功轉換為 CSV 檔案：letter-recognition.csv\")\n"
   ]
  },
  {
   "cell_type": "markdown",
   "id": "bb51e18c",
   "metadata": {},
   "source": [
    "## split train valid 無異常值"
   ]
  },
  {
   "cell_type": "code",
   "execution_count": 5,
   "id": "c7120be3",
   "metadata": {},
   "outputs": [
    {
     "name": "stdout",
     "output_type": "stream",
     "text": [
      "訓練資料大小(train_data): 3444\n",
      "測試資料大小(valid_data): 756\n",
      "\n",
      "每個字母的資料筆數(train_data): lettr\n",
      "K    607\n",
      "Z    582\n",
      "N    579\n",
      "E    572\n",
      "X    553\n",
      "B    551\n",
      "Name: count, dtype: int64\n",
      "\n",
      "每個字母的資料筆數: lettr\n",
      "B    149\n",
      "X    147\n",
      "E    128\n",
      "N    121\n",
      "Z    118\n",
      "K     93\n",
      "Name: count, dtype: int64\n",
      "成功切割資料為 15% 訓練集和 85% 測試集。\n"
     ]
    }
   ],
   "source": [
    "import pandas as pd\n",
    "from sklearn.model_selection import train_test_split\n",
    "\n",
    "# 讀取 training.csv\n",
    "df = pd.read_csv(\"dataSets/raw_data/training.csv\")\n",
    "\n",
    "# 切割成 70% 訓練集和 30% 測試集\n",
    "train_data, val_data = train_test_split(df, test_size=0.18, random_state=42)\n",
    "\n",
    "# 儲存切割後的資料\n",
    "train_data.to_csv(\"dataSets/train_data.csv\", index=False)\n",
    "val_data.to_csv(\"dataSets/raw_data/val_data_raw.csv\", index=False)\n",
    "\n",
    "# 印出資料及大小\n",
    "# print(\"訓練資料 (train_data):\")\n",
    "# print(train_data.head())  # 顯示訓練資料的前幾行\n",
    "print(\"訓練資料大小(train_data):\", train_data.shape[0])  # 顯示訓練資料的大小\n",
    "\n",
    "# print(\"\\n測試資料 (test_data):\")\n",
    "# print(test_data.head())  # 顯示測試資料的前幾行\n",
    "print(\"測試資料大小(valid_data):\", val_data.shape[0])  # 顯示測試資料的大小\n",
    "\n",
    "# 顯示每個字母 (lettr欄位) 的資料筆數\n",
    "letter_counts = train_data['lettr'].value_counts()\n",
    "print(\"\\n每個字母的資料筆數(train_data):\", letter_counts)\n",
    "\n",
    "letter_counts = val_data['lettr'].value_counts()\n",
    "print(\"\\n每個字母的資料筆數:\", letter_counts)\n",
    "\n",
    "\n",
    "print(\"成功切割資料為 15% 訓練集和 85% 測試集。\")\n"
   ]
  },
  {
   "cell_type": "markdown",
   "id": "8b159aab",
   "metadata": {},
   "source": [
    "## create valid data 加入異常數值數值"
   ]
  },
  {
   "cell_type": "code",
   "execution_count": 6,
   "id": "cde7f6ea",
   "metadata": {},
   "outputs": [
    {
     "name": "stdout",
     "output_type": "stream",
     "text": [
      "\n",
      "每個字母的資料筆數: lettr\n",
      "Q    40\n",
      "Y    35\n",
      "F    35\n",
      "H    34\n",
      "U    33\n",
      "I    32\n",
      "G    31\n",
      "M    31\n",
      "C    31\n",
      "S    31\n",
      "T    30\n",
      "J    30\n",
      "O    29\n",
      "R    29\n",
      "P    29\n",
      "W    29\n",
      "A    27\n",
      "D    26\n",
      "L    22\n",
      "V    16\n",
      "Name: count, dtype: int64\n",
      "合併後的資料集大小: (1356, 17)\n",
      "合併後的資料集樣本: \n",
      "      lettr  x-box  y-box  width  high  onpix  x-bar  y-bar  x2bar  y2bar  \\\n",
      "49        E      1      0      1     1      1      5      7      5      7   \n",
      "14839     Y      2      2      3     3      1      7     10      1      6   \n",
      "12821     U      3      3      4     1      1      5      8      5      6   \n",
      "363       B      5      8      7     6      7      8      7      6      6   \n",
      "15063     Y      7      6      6     9      4      9      6      5      5   \n",
      "\n",
      "       xybar  x2ybr  xy2br  x-ege  xegvy  y-ege  yegvx  \n",
      "49         7      6     12      0      8      6      9  \n",
      "14839      7     11      9      1     11      1      8  \n",
      "12821     10      9      9      3     10      2      6  \n",
      "363        9      6      6      5     10      7      9  \n",
      "15063      5     12      6      4     11      4      6  \n"
     ]
    }
   ],
   "source": [
    "import pandas as pd\n",
    "import numpy as np\n",
    "from sklearn.utils import shuffle\n",
    "\n",
    "# 讀取無異常值資料 (valid_data)\n",
    "valid_data = pd.read_csv(\"dataSets/raw_data/val_data_raw.csv\")  # 假設已經有了 valid_data.csv 檔案\n",
    "\n",
    "# 讀取異常值資料 (letter-recognition_no6Feature.csv)\n",
    "anomaly_data = pd.read_csv(\"dataSets/raw_data/letter-recognition_no6Feature.csv\")\n",
    "\n",
    "# 從異常資料中隨機選取 500 筆\n",
    "anomaly_sample = anomaly_data.sample(n=600, random_state=42)\n",
    "\n",
    "letter_counts = anomaly_sample['lettr'].value_counts()\n",
    "print(\"\\n每個字母的資料筆數:\", letter_counts)\n",
    "\n",
    "# # 標註資料\n",
    "# valid_data['label'] = 0  # 無異常值資料標註為 0\n",
    "# anomaly_sample['label'] = 1  # 異常值資料標註為 1\n",
    "\n",
    "# 合併無異常資料與異常資料\n",
    "combined_data = pd.concat([valid_data, anomaly_sample])\n",
    "\n",
    "# 隨機打亂資料\n",
    "combined_data = shuffle(combined_data, random_state=42)\n",
    "\n",
    "# 儲存結果\n",
    "combined_data.to_csv(\"dataSets/valid_data.csv\", index=False)\n",
    "\n",
    "# 印出合併後的資料集大小\n",
    "print(f\"合併後的資料集大小: {combined_data.shape}\")\n",
    "print(f\"合併後的資料集樣本: \\n{combined_data.head()}\")\n"
   ]
  }
 ],
 "metadata": {
  "kernelspec": {
   "display_name": "venv",
   "language": "python",
   "name": "python3"
  },
  "language_info": {
   "codemirror_mode": {
    "name": "ipython",
    "version": 3
   },
   "file_extension": ".py",
   "mimetype": "text/x-python",
   "name": "python",
   "nbconvert_exporter": "python",
   "pygments_lexer": "ipython3",
   "version": "3.10.4"
  }
 },
 "nbformat": 4,
 "nbformat_minor": 5
}
